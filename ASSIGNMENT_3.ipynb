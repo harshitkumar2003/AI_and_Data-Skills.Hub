{
  "cells": [
    {
      "cell_type": "markdown",
      "metadata": {
        "id": "view-in-github",
        "colab_type": "text"
      },
      "source": [
        "<a href=\"https://colab.research.google.com/github/harshitkumar2003/AI_and_Data-Skills.Hub/blob/main/ASSIGNMENT_3.ipynb\" target=\"_parent\"><img src=\"https://colab.research.google.com/assets/colab-badge.svg\" alt=\"Open In Colab\"/></a>"
      ]
    },
    {
      "cell_type": "markdown",
      "metadata": {
        "id": "IyCenIKQ3JDX"
      },
      "source": [
        "#//Data Type//"
      ]
    },
    {
      "cell_type": "markdown",
      "metadata": {
        "id": "Pd5L7CY9cjxU"
      },
      "source": [
        "#//Numerical Data Type//"
      ]
    },
    {
      "cell_type": "markdown",
      "source": [
        "|NAME|TYPE|EXAMPLE|\n",
        "|-|-|-|\n",
        "|integer|int|2|\n",
        "|float|float|4.2|\n",
        "|complex|complex|3j+8|"
      ],
      "metadata": {
        "id": "7PV0pdwcK7Xu"
      }
    },
    {
      "cell_type": "code",
      "execution_count": 1,
      "metadata": {
        "id": "LvrFtB4KY8ky",
        "colab": {
          "base_uri": "https://localhost:8080/"
        },
        "outputId": "31eb4fd9-7f5a-45f5-e570-c1b615b93700"
      },
      "outputs": [
        {
          "output_type": "execute_result",
          "data": {
            "text/plain": [
              "int"
            ]
          },
          "metadata": {},
          "execution_count": 1
        }
      ],
      "source": [
        "# integer\n",
        "a = 1\n",
        "type(a)"
      ]
    },
    {
      "cell_type": "code",
      "execution_count": 2,
      "metadata": {
        "colab": {
          "base_uri": "https://localhost:8080/"
        },
        "id": "mFY16Qz6drd-",
        "outputId": "ebad58b1-13fd-4c04-cfc4-390645dd6dcf"
      },
      "outputs": [
        {
          "output_type": "execute_result",
          "data": {
            "text/plain": [
              "2"
            ]
          },
          "metadata": {},
          "execution_count": 2
        }
      ],
      "source": [
        "# create integer\n",
        "int(2)"
      ]
    },
    {
      "cell_type": "code",
      "execution_count": 3,
      "metadata": {
        "colab": {
          "base_uri": "https://localhost:8080/"
        },
        "id": "ZZpDdxhBcpwR",
        "outputId": "fa2dfd58-2c7b-4704-fb9b-f48a117e825e"
      },
      "outputs": [
        {
          "output_type": "execute_result",
          "data": {
            "text/plain": [
              "float"
            ]
          },
          "metadata": {},
          "execution_count": 3
        }
      ],
      "source": [
        "# float\n",
        "b = 2.3\n",
        "type(b)"
      ]
    },
    {
      "cell_type": "code",
      "execution_count": 4,
      "metadata": {
        "colab": {
          "base_uri": "https://localhost:8080/"
        },
        "id": "8gAPcPdQdtAD",
        "outputId": "ce94aa82-e67a-4a74-e77f-a6bd9d9a8b88"
      },
      "outputs": [
        {
          "output_type": "execute_result",
          "data": {
            "text/plain": [
              "2.0"
            ]
          },
          "metadata": {},
          "execution_count": 4
        }
      ],
      "source": [
        "# create float\n",
        "float(2)"
      ]
    },
    {
      "cell_type": "code",
      "execution_count": null,
      "metadata": {
        "colab": {
          "base_uri": "https://localhost:8080/"
        },
        "id": "2nv9TA58cuQO",
        "outputId": "0748005e-414f-4213-91cf-282a1d3f54e3"
      },
      "outputs": [
        {
          "data": {
            "text/plain": [
              "complex"
            ]
          },
          "execution_count": 18,
          "metadata": {},
          "output_type": "execute_result"
        }
      ],
      "source": [
        "# complex\n",
        "c = 2j+3\n",
        "type(c)"
      ]
    },
    {
      "cell_type": "code",
      "execution_count": 8,
      "metadata": {
        "colab": {
          "base_uri": "https://localhost:8080/"
        },
        "id": "mKPZRKpIdoR4",
        "outputId": "74ee1aec-19cb-4cb7-b02e-c0b315beb01e"
      },
      "outputs": [
        {
          "output_type": "execute_result",
          "data": {
            "text/plain": [
              "(3+6j)"
            ]
          },
          "metadata": {},
          "execution_count": 8
        }
      ],
      "source": [
        "# create complex\n",
        "complex(3,6)"
      ]
    },
    {
      "cell_type": "markdown",
      "metadata": {
        "id": "xNouVY0xroOF"
      },
      "source": [
        "#//Arithmetic Operators//"
      ]
    },
    {
      "cell_type": "markdown",
      "metadata": {
        "id": "yZidthQdroXk"
      },
      "source": [
        "|Name|Operator|Example|\n",
        "|-|-|-|\n",
        "|Addition|+|x+y|\n",
        "|Subtraction|-|x-y|\n",
        "|Multiplication|*|x*y|\n",
        "|Division| / |x\\y|\n",
        "|Modulus|%|x%y|\n",
        "|Power|^|x^y|\n",
        "|Exponential|**|x**y|\n",
        "|Floor Division| // | x//y |\n",
        "\n",
        "\n"
      ]
    },
    {
      "cell_type": "code",
      "execution_count": 9,
      "metadata": {
        "colab": {
          "base_uri": "https://localhost:8080/"
        },
        "id": "d70zLeJnrnkm",
        "outputId": "73d058e7-a39b-4154-acca-0c3a345751db"
      },
      "outputs": [
        {
          "output_type": "execute_result",
          "data": {
            "text/plain": [
              "13"
            ]
          },
          "metadata": {},
          "execution_count": 9
        }
      ],
      "source": [
        "# addition\n",
        "10+3"
      ]
    },
    {
      "cell_type": "code",
      "execution_count": 10,
      "metadata": {
        "colab": {
          "base_uri": "https://localhost:8080/"
        },
        "id": "W-HePOYquMMu",
        "outputId": "1417486f-c7c2-435b-813d-81f714cdbb4e"
      },
      "outputs": [
        {
          "output_type": "execute_result",
          "data": {
            "text/plain": [
              "7"
            ]
          },
          "metadata": {},
          "execution_count": 10
        }
      ],
      "source": [
        "# subtraction\n",
        "10-3"
      ]
    },
    {
      "cell_type": "code",
      "execution_count": 11,
      "metadata": {
        "colab": {
          "base_uri": "https://localhost:8080/"
        },
        "id": "HSvH2q_YwUoc",
        "outputId": "17a74056-2ab7-4cd2-cc95-52ff1720d405"
      },
      "outputs": [
        {
          "output_type": "execute_result",
          "data": {
            "text/plain": [
              "30"
            ]
          },
          "metadata": {},
          "execution_count": 11
        }
      ],
      "source": [
        "# multiplication\n",
        "10*3"
      ]
    },
    {
      "cell_type": "code",
      "execution_count": 12,
      "metadata": {
        "colab": {
          "base_uri": "https://localhost:8080/"
        },
        "id": "HED-LCCuxGFi",
        "outputId": "7edef06d-6d03-49ad-923a-b67452395dd3"
      },
      "outputs": [
        {
          "output_type": "execute_result",
          "data": {
            "text/plain": [
              "3.3333333333333335"
            ]
          },
          "metadata": {},
          "execution_count": 12
        }
      ],
      "source": [
        "# division (float)\n",
        "10/3"
      ]
    },
    {
      "cell_type": "code",
      "execution_count": 13,
      "metadata": {
        "colab": {
          "base_uri": "https://localhost:8080/"
        },
        "id": "Af7zN0VAxJLq",
        "outputId": "3e5a6e05-8b72-4e8b-cdd5-6b78d9922509"
      },
      "outputs": [
        {
          "output_type": "execute_result",
          "data": {
            "text/plain": [
              "3"
            ]
          },
          "metadata": {},
          "execution_count": 13
        }
      ],
      "source": [
        "# division (floor)\n",
        "10//3"
      ]
    },
    {
      "cell_type": "code",
      "execution_count": 14,
      "metadata": {
        "colab": {
          "base_uri": "https://localhost:8080/"
        },
        "id": "pm6tLXrSxUF0",
        "outputId": "e7487a15-8a8b-4b2c-a1bf-ffee702724fc"
      },
      "outputs": [
        {
          "output_type": "execute_result",
          "data": {
            "text/plain": [
              "1"
            ]
          },
          "metadata": {},
          "execution_count": 14
        }
      ],
      "source": [
        "# modulus\n",
        "10%3"
      ]
    },
    {
      "cell_type": "code",
      "execution_count": 15,
      "metadata": {
        "colab": {
          "base_uri": "https://localhost:8080/"
        },
        "id": "Bf8-DgyowVhk",
        "outputId": "2b03318c-bb88-4411-cb76-83d9dd6d1ca2"
      },
      "outputs": [
        {
          "output_type": "execute_result",
          "data": {
            "text/plain": [
              "1000"
            ]
          },
          "metadata": {},
          "execution_count": 15
        }
      ],
      "source": [
        "# exponential\n",
        "10**3"
      ]
    },
    {
      "cell_type": "markdown",
      "metadata": {
        "id": "22yu3ZJ83THm"
      },
      "source": [
        "#//Assignment Operators//"
      ]
    },
    {
      "cell_type": "markdown",
      "metadata": {
        "id": "gbYngJma502f"
      },
      "source": [
        "![image.png](data:image/png;base64,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)"
      ]
    },
    {
      "cell_type": "code",
      "execution_count": 16,
      "metadata": {
        "colab": {
          "base_uri": "https://localhost:8080/"
        },
        "id": "j3H7uIrfypUR",
        "outputId": "7ec2bf00-1629-4440-edc0-7d1aa07cb92d"
      },
      "outputs": [
        {
          "output_type": "execute_result",
          "data": {
            "text/plain": [
              "5"
            ]
          },
          "metadata": {},
          "execution_count": 16
        }
      ],
      "source": [
        "# assignment\n",
        "x=5\n",
        "x"
      ]
    },
    {
      "cell_type": "code",
      "execution_count": 17,
      "metadata": {
        "colab": {
          "base_uri": "https://localhost:8080/"
        },
        "id": "vzVbNamq4Lux",
        "outputId": "c712951b-2c29-444a-f626-d314373e9194"
      },
      "outputs": [
        {
          "output_type": "execute_result",
          "data": {
            "text/plain": [
              "17"
            ]
          },
          "metadata": {},
          "execution_count": 17
        }
      ],
      "source": [
        "# add right value\n",
        "x = 12\n",
        "x+=5\n",
        "x"
      ]
    },
    {
      "cell_type": "code",
      "execution_count": 18,
      "metadata": {
        "colab": {
          "base_uri": "https://localhost:8080/"
        },
        "id": "_y_FvUL94Lxl",
        "outputId": "25a885c2-6873-48d8-c820-6e455a3a0b94"
      },
      "outputs": [
        {
          "output_type": "execute_result",
          "data": {
            "text/plain": [
              "7"
            ]
          },
          "metadata": {},
          "execution_count": 18
        }
      ],
      "source": [
        "# subtract right value\n",
        "x = 12\n",
        "x-=5\n",
        "x"
      ]
    },
    {
      "cell_type": "code",
      "execution_count": 19,
      "metadata": {
        "colab": {
          "base_uri": "https://localhost:8080/"
        },
        "id": "2_3wOtfM4L0v",
        "outputId": "5578d7af-a5cf-4e8b-cf8e-4e48ba067d88"
      },
      "outputs": [
        {
          "output_type": "execute_result",
          "data": {
            "text/plain": [
              "60"
            ]
          },
          "metadata": {},
          "execution_count": 19
        }
      ],
      "source": [
        "# multiply right value\n",
        "x = 12\n",
        "x*=5\n",
        "x"
      ]
    },
    {
      "cell_type": "code",
      "execution_count": 20,
      "metadata": {
        "colab": {
          "base_uri": "https://localhost:8080/"
        },
        "id": "UbfMI6O-4L3x",
        "outputId": "87e4ad65-7cdd-418a-c64e-b1a1ea6f422f"
      },
      "outputs": [
        {
          "output_type": "execute_result",
          "data": {
            "text/plain": [
              "2.4"
            ]
          },
          "metadata": {},
          "execution_count": 20
        }
      ],
      "source": [
        "# divide right value\n",
        "x = 12\n",
        "x/=5\n",
        "x"
      ]
    },
    {
      "cell_type": "code",
      "execution_count": 21,
      "metadata": {
        "colab": {
          "base_uri": "https://localhost:8080/"
        },
        "id": "65QYVyod6P5I",
        "outputId": "16f8c116-f319-4bf9-d472-4eaaa71023e8"
      },
      "outputs": [
        {
          "output_type": "execute_result",
          "data": {
            "text/plain": [
              "2"
            ]
          },
          "metadata": {},
          "execution_count": 21
        }
      ],
      "source": [
        "# divide right value\n",
        "x = 12\n",
        "x//=5\n",
        "x"
      ]
    },
    {
      "cell_type": "code",
      "execution_count": 22,
      "metadata": {
        "colab": {
          "base_uri": "https://localhost:8080/"
        },
        "id": "ZF-hlaSp3ZUc",
        "outputId": "e960ff9b-c427-48de-fa7a-0360356785ea"
      },
      "outputs": [
        {
          "output_type": "execute_result",
          "data": {
            "text/plain": [
              "0"
            ]
          },
          "metadata": {},
          "execution_count": 22
        }
      ],
      "source": [
        "# modulus right value\n",
        "x = 12\n",
        "x%=3\n",
        "x"
      ]
    },
    {
      "cell_type": "code",
      "execution_count": 23,
      "metadata": {
        "colab": {
          "base_uri": "https://localhost:8080/"
        },
        "id": "RNDXcqig6QBK",
        "outputId": "d15d7fcb-ed44-42e4-df0b-fa7304a89788"
      },
      "outputs": [
        {
          "output_type": "execute_result",
          "data": {
            "text/plain": [
              "144"
            ]
          },
          "metadata": {},
          "execution_count": 23
        }
      ],
      "source": [
        "# exponential right value\n",
        "x = 12\n",
        "x**=2\n",
        "x"
      ]
    },
    {
      "cell_type": "markdown",
      "metadata": {
        "id": "Iw-1nN42iIQj"
      },
      "source": [
        "#//Boolean Data Type//"
      ]
    },
    {
      "cell_type": "code",
      "execution_count": 24,
      "metadata": {
        "colab": {
          "base_uri": "https://localhost:8080/"
        },
        "id": "QCXHjklxiCSe",
        "outputId": "7236d8db-a304-43c0-b439-70f234bd0125"
      },
      "outputs": [
        {
          "output_type": "execute_result",
          "data": {
            "text/plain": [
              "True"
            ]
          },
          "metadata": {},
          "execution_count": 24
        }
      ],
      "source": [
        "True"
      ]
    },
    {
      "cell_type": "code",
      "execution_count": 25,
      "metadata": {
        "colab": {
          "base_uri": "https://localhost:8080/"
        },
        "id": "QEZXY_wkiKsa",
        "outputId": "78bc194d-a65d-46a4-90d0-7ff87f953463"
      },
      "outputs": [
        {
          "output_type": "execute_result",
          "data": {
            "text/plain": [
              "False"
            ]
          },
          "metadata": {},
          "execution_count": 25
        }
      ],
      "source": [
        "False"
      ]
    },
    {
      "cell_type": "code",
      "execution_count": 26,
      "metadata": {
        "colab": {
          "base_uri": "https://localhost:8080/"
        },
        "id": "natJ5i-xiLKH",
        "outputId": "56f6065f-9c2c-4066-99a3-6c6912f90909"
      },
      "outputs": [
        {
          "output_type": "execute_result",
          "data": {
            "text/plain": [
              "True"
            ]
          },
          "metadata": {},
          "execution_count": 26
        }
      ],
      "source": [
        "# non empty int or float are True except 0\n",
        "bool(2529)"
      ]
    },
    {
      "cell_type": "code",
      "execution_count": 27,
      "metadata": {
        "colab": {
          "base_uri": "https://localhost:8080/"
        },
        "id": "8Co6pjA0jS4f",
        "outputId": "1533b6b7-9470-4ed3-8672-fa7fdd6cfba9"
      },
      "outputs": [
        {
          "output_type": "execute_result",
          "data": {
            "text/plain": [
              "False"
            ]
          },
          "metadata": {},
          "execution_count": 27
        }
      ],
      "source": [
        "bool(0)"
      ]
    },
    {
      "cell_type": "code",
      "execution_count": 28,
      "metadata": {
        "colab": {
          "base_uri": "https://localhost:8080/"
        },
        "id": "IkkIFoqqjHCV",
        "outputId": "033f37fa-cd6e-43d9-b911-b2ee572ca26e"
      },
      "outputs": [
        {
          "output_type": "execute_result",
          "data": {
            "text/plain": [
              "True"
            ]
          },
          "metadata": {},
          "execution_count": 28
        }
      ],
      "source": [
        "# non empty string if True except empty one (not even whitespace)\n",
        "bool('ybi')"
      ]
    },
    {
      "cell_type": "code",
      "execution_count": 29,
      "metadata": {
        "colab": {
          "base_uri": "https://localhost:8080/"
        },
        "id": "44NDwXT8jfrK",
        "outputId": "0641282a-7a26-4166-c547-3a16e0b933f8"
      },
      "outputs": [
        {
          "output_type": "execute_result",
          "data": {
            "text/plain": [
              "True"
            ]
          },
          "metadata": {},
          "execution_count": 29
        }
      ],
      "source": [
        "# whitespace is also TRUE\n",
        "bool(' ')"
      ]
    },
    {
      "cell_type": "code",
      "execution_count": 30,
      "metadata": {
        "colab": {
          "base_uri": "https://localhost:8080/"
        },
        "id": "ULRActLvjJ42",
        "outputId": "0f20642a-c251-4659-9cac-937d83b6ec96"
      },
      "outputs": [
        {
          "output_type": "execute_result",
          "data": {
            "text/plain": [
              "False"
            ]
          },
          "metadata": {},
          "execution_count": 30
        }
      ],
      "source": [
        "# empty string\n",
        "bool('')"
      ]
    },
    {
      "cell_type": "code",
      "execution_count": 31,
      "metadata": {
        "colab": {
          "base_uri": "https://localhost:8080/"
        },
        "id": "3tm5snwTjbBM",
        "outputId": "bbc300fc-30b4-43b9-a3e0-5324c7f16ef8"
      },
      "outputs": [
        {
          "output_type": "execute_result",
          "data": {
            "text/plain": [
              "True"
            ]
          },
          "metadata": {},
          "execution_count": 31
        }
      ],
      "source": [
        "# non empty list, tupple, set are all True\n",
        "bool([2,5,2,9])"
      ]
    },
    {
      "cell_type": "code",
      "execution_count": 32,
      "metadata": {
        "colab": {
          "base_uri": "https://localhost:8080/"
        },
        "id": "GbDLGf9bjsA7",
        "outputId": "acf3363d-f558-4ec5-ea45-7aa285593195"
      },
      "outputs": [
        {
          "output_type": "execute_result",
          "data": {
            "text/plain": [
              "True"
            ]
          },
          "metadata": {},
          "execution_count": 32
        }
      ],
      "source": [
        "bool((2,5,2,9))"
      ]
    },
    {
      "cell_type": "code",
      "execution_count": 33,
      "metadata": {
        "colab": {
          "base_uri": "https://localhost:8080/"
        },
        "id": "XoyD_F9-judT",
        "outputId": "8a1f21c4-11c4-4f3a-f37f-712eb4302df9"
      },
      "outputs": [
        {
          "output_type": "execute_result",
          "data": {
            "text/plain": [
              "True"
            ]
          },
          "metadata": {},
          "execution_count": 33
        }
      ],
      "source": [
        "bool({2,5,2,9})"
      ]
    },
    {
      "cell_type": "code",
      "execution_count": 34,
      "metadata": {
        "colab": {
          "base_uri": "https://localhost:8080/"
        },
        "id": "qGgBzHOyjwgH",
        "outputId": "727c7572-e19e-4ba2-b2de-5e3ec017044a"
      },
      "outputs": [
        {
          "output_type": "execute_result",
          "data": {
            "text/plain": [
              "False"
            ]
          },
          "metadata": {},
          "execution_count": 34
        }
      ],
      "source": [
        "# empty list\n",
        "bool([])"
      ]
    },
    {
      "cell_type": "code",
      "execution_count": 35,
      "metadata": {
        "colab": {
          "base_uri": "https://localhost:8080/"
        },
        "id": "gINo0_Fzjx8E",
        "outputId": "842b41da-ab52-4b43-abce-9c7607347add"
      },
      "outputs": [
        {
          "output_type": "execute_result",
          "data": {
            "text/plain": [
              "False"
            ]
          },
          "metadata": {},
          "execution_count": 35
        }
      ],
      "source": [
        "# empty tuple\n",
        "bool(())"
      ]
    },
    {
      "cell_type": "code",
      "execution_count": 36,
      "metadata": {
        "colab": {
          "base_uri": "https://localhost:8080/"
        },
        "id": "34S5DTxej393",
        "outputId": "afd78618-6d59-42e7-cbad-63d314c34ef3"
      },
      "outputs": [
        {
          "output_type": "execute_result",
          "data": {
            "text/plain": [
              "False"
            ]
          },
          "metadata": {},
          "execution_count": 36
        }
      ],
      "source": [
        "# empty set\n",
        "bool({})"
      ]
    },
    {
      "cell_type": "markdown",
      "metadata": {
        "id": "gJHmyshu1DqU"
      },
      "source": [
        "#//Comparision Operator//"
      ]
    },
    {
      "cell_type": "code",
      "execution_count": 37,
      "metadata": {
        "colab": {
          "base_uri": "https://localhost:8080/"
        },
        "id": "yjQotrC6m0aP",
        "outputId": "e63fa20d-791d-4885-9ed8-afcf65847a6c"
      },
      "outputs": [
        {
          "output_type": "execute_result",
          "data": {
            "text/plain": [
              "True"
            ]
          },
          "metadata": {},
          "execution_count": 37
        }
      ],
      "source": [
        "# equal\n",
        "2 == 2"
      ]
    },
    {
      "cell_type": "code",
      "execution_count": 41,
      "metadata": {
        "colab": {
          "base_uri": "https://localhost:8080/"
        },
        "id": "TMpuyOqi1H6y",
        "outputId": "24670826-8dc9-4862-a95c-23d6833a9c59"
      },
      "outputs": [
        {
          "output_type": "execute_result",
          "data": {
            "text/plain": [
              "False"
            ]
          },
          "metadata": {},
          "execution_count": 41
        }
      ],
      "source": [
        "# not equal\n",
        "2 != 2"
      ]
    },
    {
      "cell_type": "code",
      "execution_count": 42,
      "metadata": {
        "colab": {
          "base_uri": "https://localhost:8080/"
        },
        "id": "Bp0uGYhd1H-M",
        "outputId": "8deead2f-1e12-4b42-a680-de62125ac68a"
      },
      "outputs": [
        {
          "output_type": "execute_result",
          "data": {
            "text/plain": [
              "True"
            ]
          },
          "metadata": {},
          "execution_count": 42
        }
      ],
      "source": [
        "# greater than\n",
        "5>2"
      ]
    },
    {
      "cell_type": "code",
      "execution_count": 43,
      "metadata": {
        "colab": {
          "base_uri": "https://localhost:8080/"
        },
        "id": "RWUjy-pC1IBU",
        "outputId": "0dec262b-3319-4d00-a1f2-dbb590228a01"
      },
      "outputs": [
        {
          "output_type": "execute_result",
          "data": {
            "text/plain": [
              "True"
            ]
          },
          "metadata": {},
          "execution_count": 43
        }
      ],
      "source": [
        "# smaller than\n",
        "5<6"
      ]
    },
    {
      "cell_type": "code",
      "execution_count": 44,
      "metadata": {
        "colab": {
          "base_uri": "https://localhost:8080/"
        },
        "id": "cTdHs2881IEt",
        "outputId": "e724acf7-c2cb-4b6b-f821-871d9863e4dc"
      },
      "outputs": [
        {
          "output_type": "execute_result",
          "data": {
            "text/plain": [
              "True"
            ]
          },
          "metadata": {},
          "execution_count": 44
        }
      ],
      "source": [
        "# greater than equal\n",
        "2<=5"
      ]
    },
    {
      "cell_type": "code",
      "execution_count": 45,
      "metadata": {
        "colab": {
          "base_uri": "https://localhost:8080/"
        },
        "id": "oQOiOIgD1URD",
        "outputId": "1710d0b1-7548-4b18-83ab-97e69fc5808c"
      },
      "outputs": [
        {
          "output_type": "execute_result",
          "data": {
            "text/plain": [
              "False"
            ]
          },
          "metadata": {},
          "execution_count": 45
        }
      ],
      "source": [
        "# smaller than equal\n",
        "2>=5"
      ]
    },
    {
      "cell_type": "markdown",
      "metadata": {
        "id": "2A9LoAdc33tN"
      },
      "source": [
        "#//Logical Operator//"
      ]
    },
    {
      "cell_type": "markdown",
      "metadata": {
        "id": "d2XAOeZs4boI"
      },
      "source": [
        "  (and) operator\n",
        "The conditions that can occur are:\n",
        "\n",
        "- If Both are True, then the result is True.\n",
        "- If one is True and the other is False, the result is False.\n",
        "- If both are False, the result is False."
      ]
    },
    {
      "cell_type": "code",
      "execution_count": 47,
      "metadata": {
        "id": "8WY8uESLhE7V",
        "outputId": "410e6df7-ab05-4702-d6a2-1e0dae1e07ce",
        "colab": {
          "base_uri": "https://localhost:8080/"
        }
      },
      "outputs": [
        {
          "output_type": "execute_result",
          "data": {
            "text/plain": [
              "True"
            ]
          },
          "metadata": {},
          "execution_count": 47
        }
      ],
      "source": [
        "True and True"
      ]
    },
    {
      "cell_type": "code",
      "execution_count": 48,
      "metadata": {
        "id": "iGjdlwtghE7V",
        "outputId": "d8057d71-ac7c-4f18-fda1-280df557b98d",
        "colab": {
          "base_uri": "https://localhost:8080/"
        }
      },
      "outputs": [
        {
          "output_type": "execute_result",
          "data": {
            "text/plain": [
              "False"
            ]
          },
          "metadata": {},
          "execution_count": 48
        }
      ],
      "source": [
        "True and False"
      ]
    },
    {
      "cell_type": "code",
      "execution_count": 49,
      "metadata": {
        "id": "scOjsj04hE7W",
        "outputId": "929d5d80-45a4-4949-959e-8ba70f625a77",
        "colab": {
          "base_uri": "https://localhost:8080/"
        }
      },
      "outputs": [
        {
          "output_type": "execute_result",
          "data": {
            "text/plain": [
              "False"
            ]
          },
          "metadata": {},
          "execution_count": 49
        }
      ],
      "source": [
        "False and False"
      ]
    },
    {
      "cell_type": "code",
      "execution_count": 50,
      "metadata": {
        "id": "PFAwNPe5hE7W",
        "outputId": "29ee0e3a-560d-4d4b-ea3f-114db1493beb",
        "colab": {
          "base_uri": "https://localhost:8080/"
        }
      },
      "outputs": [
        {
          "output_type": "execute_result",
          "data": {
            "text/plain": [
              "False"
            ]
          },
          "metadata": {},
          "execution_count": 50
        }
      ],
      "source": [
        "False or False"
      ]
    },
    {
      "cell_type": "code",
      "execution_count": 51,
      "metadata": {
        "id": "SELBshTyhE7W",
        "outputId": "58423916-73df-4daa-fc89-e6f01069ea78",
        "colab": {
          "base_uri": "https://localhost:8080/"
        }
      },
      "outputs": [
        {
          "output_type": "execute_result",
          "data": {
            "text/plain": [
              "True"
            ]
          },
          "metadata": {},
          "execution_count": 51
        }
      ],
      "source": [
        "True or True"
      ]
    },
    {
      "cell_type": "code",
      "execution_count": 52,
      "metadata": {
        "id": "S0peO_sxhE7X",
        "outputId": "dda5800f-c8eb-4f80-efda-e9c448b51345",
        "colab": {
          "base_uri": "https://localhost:8080/"
        }
      },
      "outputs": [
        {
          "output_type": "execute_result",
          "data": {
            "text/plain": [
              "True"
            ]
          },
          "metadata": {},
          "execution_count": 52
        }
      ],
      "source": [
        "True or False"
      ]
    },
    {
      "cell_type": "code",
      "execution_count": 53,
      "metadata": {
        "id": "Il7ruKVehE7X",
        "outputId": "68cb79fb-68a7-4569-8fd1-cee1995d76b5",
        "colab": {
          "base_uri": "https://localhost:8080/"
        }
      },
      "outputs": [
        {
          "output_type": "execute_result",
          "data": {
            "text/plain": [
              "b'I01\\n'"
            ]
          },
          "metadata": {},
          "execution_count": 53
        }
      ],
      "source": [
        "from pickle import TRUE\n",
        "False or TRUE"
      ]
    },
    {
      "cell_type": "code",
      "execution_count": 54,
      "metadata": {
        "id": "uGkm8aJwhE7Y",
        "outputId": "75d0b440-c32c-4c3e-bf91-2188ba7403ff",
        "colab": {
          "base_uri": "https://localhost:8080/"
        }
      },
      "outputs": [
        {
          "output_type": "execute_result",
          "data": {
            "text/plain": [
              "False"
            ]
          },
          "metadata": {},
          "execution_count": 54
        }
      ],
      "source": [
        "not True"
      ]
    },
    {
      "cell_type": "code",
      "execution_count": 55,
      "metadata": {
        "id": "r7vwhCwAhE7Z",
        "outputId": "9f2bdf1c-5767-4278-8e4a-33ee5e9a3711",
        "colab": {
          "base_uri": "https://localhost:8080/"
        }
      },
      "outputs": [
        {
          "output_type": "execute_result",
          "data": {
            "text/plain": [
              "True"
            ]
          },
          "metadata": {},
          "execution_count": 55
        }
      ],
      "source": [
        "not False"
      ]
    },
    {
      "cell_type": "code",
      "execution_count": 59,
      "metadata": {
        "id": "1AD75tar4E8H"
      },
      "outputs": [],
      "source": [
        "# assign value\n",
        "x = 25"
      ]
    },
    {
      "cell_type": "code",
      "execution_count": 58,
      "metadata": {
        "id": "1DPs9cIQ4mdo",
        "colab": {
          "base_uri": "https://localhost:8080/"
        },
        "outputId": "9d672d79-0e71-407d-fb43-f30e445bc4f6"
      },
      "outputs": [
        {
          "output_type": "execute_result",
          "data": {
            "text/plain": [
              "False"
            ]
          },
          "metadata": {},
          "execution_count": 58
        }
      ],
      "source": [
        "# less than\n",
        "x < 25\n"
      ]
    },
    {
      "cell_type": "code",
      "execution_count": 57,
      "metadata": {
        "colab": {
          "base_uri": "https://localhost:8080/"
        },
        "id": "Q1h1JYA94nrz",
        "outputId": "f94e3114-aca5-4c2e-90a6-15bb255f711a"
      },
      "outputs": [
        {
          "output_type": "execute_result",
          "data": {
            "text/plain": [
              "False"
            ]
          },
          "metadata": {},
          "execution_count": 57
        }
      ],
      "source": [
        "# less than\n",
        "x < 25"
      ]
    },
    {
      "cell_type": "code",
      "execution_count": 60,
      "metadata": {
        "colab": {
          "base_uri": "https://localhost:8080/"
        },
        "id": "RQ5JaBSg402D",
        "outputId": "027dc8b7-bed7-40cf-ea2b-2ac7cb8ea59b"
      },
      "outputs": [
        {
          "output_type": "execute_result",
          "data": {
            "text/plain": [
              "True"
            ]
          },
          "metadata": {},
          "execution_count": 60
        }
      ],
      "source": [
        "# less than equal to\n",
        "x<=25"
      ]
    },
    {
      "cell_type": "code",
      "execution_count": 61,
      "metadata": {
        "id": "65qMw0QE4u2k",
        "colab": {
          "base_uri": "https://localhost:8080/"
        },
        "outputId": "9344000a-e68a-4a60-b43d-4d850ae7a751"
      },
      "outputs": [
        {
          "output_type": "execute_result",
          "data": {
            "text/plain": [
              "True"
            ]
          },
          "metadata": {},
          "execution_count": 61
        }
      ],
      "source": [
        "# both conditions are True\n",
        "x <= 25 and  x < 29"
      ]
    },
    {
      "cell_type": "code",
      "execution_count": 62,
      "metadata": {
        "colab": {
          "base_uri": "https://localhost:8080/"
        },
        "id": "aWuvQnsd1UaH",
        "outputId": "6fe9aa79-4a95-4e39-a318-255da1c47b1f"
      },
      "outputs": [
        {
          "output_type": "execute_result",
          "data": {
            "text/plain": [
              "False"
            ]
          },
          "metadata": {},
          "execution_count": 62
        }
      ],
      "source": [
        "# one of the condition is True\n",
        "x < 25 and  x < 29"
      ]
    },
    {
      "cell_type": "markdown",
      "metadata": {
        "id": "Uh5odRAB5SLM"
      },
      "source": [
        "(or) Operator\n",
        "is used to verify that either of the associated conditions is true. It is represented as \"X or Y\".\n",
        "\n",
        "The conditions that can occur are:\n",
        "\n",
        "- If Both are True, the result is True\n",
        "- If One is True and the other is False, the result is True\n",
        "- If both are False, the result is False"
      ]
    },
    {
      "cell_type": "code",
      "execution_count": 63,
      "metadata": {
        "colab": {
          "base_uri": "https://localhost:8080/"
        },
        "id": "zJJLVyuC1uQa",
        "outputId": "69f4926e-ee4a-453d-b914-799925559f06"
      },
      "outputs": [
        {
          "output_type": "execute_result",
          "data": {
            "text/plain": [
              "True"
            ]
          },
          "metadata": {},
          "execution_count": 63
        }
      ],
      "source": [
        "# or\n",
        "x < 25 or x < 29"
      ]
    },
    {
      "cell_type": "markdown",
      "metadata": {
        "id": "WROLFpB05a_-"
      },
      "source": [
        "(not) Operator\n",
        "is associated with a single condition. It inverts the results, i.e., true is changed to false, and false is changed to true. It is represented as \"not X\".\n",
        "\n",
        "The conditions that occur are:\n",
        "\n",
        "- If the condition is True, the result is False\n",
        "- If the condition is False, the result is True"
      ]
    },
    {
      "cell_type": "code",
      "execution_count": 64,
      "metadata": {
        "colab": {
          "base_uri": "https://localhost:8080/"
        },
        "id": "ZkoE6oeS1uah",
        "outputId": "9dce6c6e-2693-49e6-8359-f0f448de70bc"
      },
      "outputs": [
        {
          "output_type": "execute_result",
          "data": {
            "text/plain": [
              "True"
            ]
          },
          "metadata": {},
          "execution_count": 64
        }
      ],
      "source": [
        "not(x < 25 and x < 29)"
      ]
    }
  ],
  "metadata": {
    "colab": {
      "provenance": [],
      "include_colab_link": true
    },
    "kernelspec": {
      "display_name": "Python 3",
      "name": "python3"
    },
    "language_info": {
      "name": "python"
    }
  },
  "nbformat": 4,
  "nbformat_minor": 0
}